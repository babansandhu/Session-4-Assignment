{
 "cells": [
  {
   "cell_type": "code",
   "execution_count": null,
   "metadata": {},
   "outputs": [],
   "source": [
    "class Parent:\n",
    "    def __init__(self, a, b,c):\n",
    "        self.a = input('side a: ')\n",
    "        self.b = input('side b: ')\n",
    "        self.c = input('side c: ')\n",
    "       \n",
    "    ##def get_a(self):\n",
    "      ##  return self.a\n",
    "    ##def get_b(self):\n",
    "      ##  return self.b\n",
    "    ##def get_c(self):\n",
    "       ## return self.c\n",
    "    \n",
    "class Child(Parent):\n",
    "    def __init__(self,a,b,c):\n",
    "        super().__init__(self,a,b,c)\n",
    "        self.a=a\n",
    "        self.b=b\n",
    "        self.c=c\n",
    "               \n",
    "    def get_area(self):\n",
    "        s=(self.a+self.b+self.c)/2\n",
    "        area=(s*(s-a)*(s-b)*(s-c))**0.5\n",
    "        return area\n",
    "#a=get_area()\n",
    "#print(a) \n",
    "\n",
    "a=Parent(2,4,5)\n",
    "print(a.get_area())\n",
    "\n",
    "   \n"
   ]
  },
  {
   "cell_type": "code",
   "execution_count": 17,
   "metadata": {},
   "outputs": [
    {
     "name": "stdout",
     "output_type": "stream",
     "text": [
      "Enter words, separated by spaces: a aa aaa aaaa aaaaa aaaaaaa\n",
      "Minimum length of words to keep: 2\n",
      "Words longer than 2 are aa, aaa, aaaa, aaaaa, aaaaaaa.\n"
     ]
    }
   ],
   "source": [
    "def longwords(wordlist, length):\n",
    "    return (word for word in wordlist if len(word) >= length)\n",
    "\n",
    "def main():\n",
    "    words = input(\"Enter words, separated by spaces: \").split()\n",
    "    length = int(input(\"Minimum length of words to keep: \"))\n",
    "    print(\"Words longer than {} are {}.\".format(length,\n",
    "          ', '.join(longwords(words, length))))\n",
    "\n",
    "main()"
   ]
  },
  {
   "cell_type": "code",
   "execution_count": 27,
   "metadata": {},
   "outputs": [
    {
     "name": "stdout",
     "output_type": "stream",
     "text": [
      "Enter words: a aaa aaa aa\n"
     ]
    },
    {
     "data": {
      "text/plain": [
       "[1, 3, 3, 2]"
      ]
     },
     "execution_count": 27,
     "metadata": {},
     "output_type": "execute_result"
    }
   ],
   "source": [
    "s = input (\"Enter words: \")    \n",
    "list(map(len, s.split()))"
   ]
  },
  {
   "cell_type": "code",
   "execution_count": null,
   "metadata": {},
   "outputs": [],
   "source": []
  },
  {
   "cell_type": "code",
   "execution_count": 24,
   "metadata": {},
   "outputs": [
    {
     "name": "stdout",
     "output_type": "stream",
     "text": [
      "False\n",
      "True\n"
     ]
    }
   ],
   "source": [
    "def is_vowel(char):\n",
    "    all_vowels = 'aeiou'\n",
    "    return char in all_vowels\n",
    "print(is_vowel('c'))\n",
    "print(is_vowel('e'))\n"
   ]
  }
 ],
 "metadata": {
  "kernelspec": {
   "display_name": "Python 3",
   "language": "python",
   "name": "python3"
  },
  "language_info": {
   "codemirror_mode": {
    "name": "ipython",
    "version": 3
   },
   "file_extension": ".py",
   "mimetype": "text/x-python",
   "name": "python",
   "nbconvert_exporter": "python",
   "pygments_lexer": "ipython3",
   "version": "3.6.5"
  }
 },
 "nbformat": 4,
 "nbformat_minor": 2
}
